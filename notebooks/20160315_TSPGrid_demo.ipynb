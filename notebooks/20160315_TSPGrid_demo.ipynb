{
 "cells": [
  {
   "cell_type": "code",
   "execution_count": 1,
   "metadata": {
    "collapsed": true
   },
   "outputs": [],
   "source": [
    "import numpy as np"
   ]
  },
  {
   "cell_type": "code",
   "execution_count": 2,
   "metadata": {
    "collapsed": true
   },
   "outputs": [],
   "source": [
    "a=3\n",
    "b=2"
   ]
  },
  {
   "cell_type": "code",
   "execution_count": 3,
   "metadata": {
    "collapsed": true
   },
   "outputs": [],
   "source": [
    "p=2"
   ]
  },
  {
   "cell_type": "code",
   "execution_count": 4,
   "metadata": {
    "collapsed": false
   },
   "outputs": [
    {
     "data": {
      "text/plain": [
       "6"
      ]
     },
     "execution_count": 4,
     "metadata": {},
     "output_type": "execute_result"
    }
   ],
   "source": [
    "n=a*b\n",
    "n"
   ]
  },
  {
   "cell_type": "code",
   "execution_count": 5,
   "metadata": {
    "collapsed": false
   },
   "outputs": [
    {
     "data": {
      "text/plain": [
       "6.0"
      ]
     },
     "execution_count": 5,
     "metadata": {},
     "output_type": "execute_result"
    }
   ],
   "source": [
    "fstar = n+np.mod(n,2)*(2**(1/p)-1)\n",
    "fstar"
   ]
  },
  {
   "cell_type": "code",
   "execution_count": 6,
   "metadata": {
    "collapsed": false
   },
   "outputs": [],
   "source": [
    "grid = np.zeros((n, 2), dtype=np.int)"
   ]
  },
  {
   "cell_type": "code",
   "execution_count": 8,
   "metadata": {
    "collapsed": false
   },
   "outputs": [
    {
     "data": {
      "text/plain": [
       "array([[0, 0],\n",
       "       [0, 1],\n",
       "       [1, 0],\n",
       "       [1, 1],\n",
       "       [2, 0],\n",
       "       [2, 1]])"
      ]
     },
     "execution_count": 8,
     "metadata": {},
     "output_type": "execute_result"
    }
   ],
   "source": [
    "for i in np.arange(a):\n",
    "    for j in np.arange(b):\n",
    "        grid[i*b+j]=np.array([i,j], dtype=np.int) # suradnice\n",
    "grid"
   ]
  },
  {
   "cell_type": "code",
   "execution_count": 9,
   "metadata": {
    "collapsed": false
   },
   "outputs": [
    {
     "name": "stdout",
     "output_type": "stream",
     "text": [
      "[[ 0.          1.          1.          1.41421356  2.          2.23606798]\n",
      " [ 1.          0.          1.41421356  1.          2.23606798  2.        ]\n",
      " [ 1.          1.41421356  0.          1.          1.          1.41421356]\n",
      " [ 1.41421356  1.          1.          0.          1.41421356  1.        ]\n",
      " [ 2.          2.23606798  1.          1.41421356  0.          1.        ]\n",
      " [ 2.23606798  2.          1.41421356  1.          1.          0.        ]]\n"
     ]
    }
   ],
   "source": [
    "dist = np.zeros((n, n))\n",
    "for i in np.arange(n):\n",
    "    for j in np.arange(i+1, n):\n",
    "        dist[i, j] = np.linalg.norm(grid[i, :]-grid[j, :], 2)\n",
    "        dist[j, i] = dist[i, j]\n",
    "print(dist)"
   ]
  },
  {
   "cell_type": "code",
   "execution_count": 10,
   "metadata": {
    "collapsed": false
   },
   "outputs": [
    {
     "name": "stdout",
     "output_type": "stream",
     "text": [
      "[ 0.  0.  0.  0.  0.]\n",
      "[4 3 2 1 0]\n"
     ]
    }
   ],
   "source": [
    "aa = np.zeros(n-1)\n",
    "bb = np.arange(n-2, 0-1, -1)\n",
    "print(aa)\n",
    "print(bb)"
   ]
  },
  {
   "cell_type": "code",
   "execution_count": 12,
   "metadata": {
    "collapsed": false
   },
   "outputs": [
    {
     "data": {
      "text/plain": [
       "[1, 2, 2, 0, 0]"
      ]
     },
     "execution_count": 12,
     "metadata": {},
     "output_type": "execute_result"
    }
   ],
   "source": [
    "[np.random.randint(0, i+1) for i in np.arange(n-2, 0-1, -1)]"
   ]
  },
  {
   "cell_type": "code",
   "execution_count": 13,
   "metadata": {
    "collapsed": false
   },
   "outputs": [],
   "source": [
    "def decode(x):\n",
    "    cx = np.zeros(n, dtype=np.int)  # the final tour\n",
    "    ux = np.ones(n, dtype=np.int)  # used cities indices\n",
    "    ux[0] = 0  # first city is used automatically\n",
    "    c = np.cumsum(ux)  # cities to be included in the tour\n",
    "    for k in np.arange(1, n):\n",
    "        ix = x[k-1]+1  # order index of currently visited city\n",
    "        cc = c[ix]  # currently visited city\n",
    "        cx[k] = cc # append visited city into final tour\n",
    "        c = np.delete(c, ix)  # visited city can not be included in the tour any more\n",
    "    return cx"
   ]
  },
  {
   "cell_type": "code",
   "execution_count": 14,
   "metadata": {
    "collapsed": false
   },
   "outputs": [
    {
     "name": "stdout",
     "output_type": "stream",
     "text": [
      "[0 5 4 3 2 1]\n"
     ]
    }
   ],
   "source": [
    "cx=decode(np.array([4,3,2,1,0]))\n",
    "print(cx)"
   ]
  },
  {
   "cell_type": "code",
   "execution_count": 15,
   "metadata": {
    "collapsed": false
   },
   "outputs": [
    {
     "name": "stdout",
     "output_type": "stream",
     "text": [
      "[0 1 2 3 4 5]\n"
     ]
    }
   ],
   "source": [
    "cx=decode(np.array([0,0,0,0,0]))\n",
    "print(cx)"
   ]
  },
  {
   "cell_type": "code",
   "execution_count": 16,
   "metadata": {
    "collapsed": false
   },
   "outputs": [
    {
     "name": "stdout",
     "output_type": "stream",
     "text": [
      "[1 2 2 1 0] -> [0 2 4 5 3 1]\n"
     ]
    }
   ],
   "source": [
    "x = np.array([1, 2, 2, 1, 0])\n",
    "cx = decode(x)\n",
    "print(x, '->', cx)"
   ]
  },
  {
   "cell_type": "code",
   "execution_count": 17,
   "metadata": {
    "collapsed": false
   },
   "outputs": [
    {
     "name": "stdout",
     "output_type": "stream",
     "text": [
      "[0 2 4 5 3 1]\n",
      "1 -> 0 = 1.0\n",
      "0 -> 2 = 1.0\n",
      "2 -> 4 = 1.0\n",
      "4 -> 5 = 1.0\n",
      "5 -> 3 = 1.0\n",
      "3 -> 1 = 1.0\n",
      "6.0\n"
     ]
    }
   ],
   "source": [
    "def tour_dist(cx):\n",
    "    d=0\n",
    "    for i in np.arange(n):\n",
    "        dx = dist[cx[i-1], cx[i]] if i>0 else dist[cx[n-1], cx[i]]\n",
    "        d += dx\n",
    "        print(cx[i-1], '->', cx[i], '=', dx)\n",
    "    return d\n",
    "print(cx)\n",
    "print(tour_dist(cx))"
   ]
  },
  {
   "cell_type": "code",
   "execution_count": 18,
   "metadata": {
    "collapsed": false
   },
   "outputs": [],
   "source": [
    "def get_neighborhood(x, d=1):\n",
    "    nd = []\n",
    "    for i, xi in enumerate(x):\n",
    "        # x-lower\n",
    "        if x[i] > aa[i]: # (!) mutation correction .. will be discussed later\n",
    "            xl = x.copy()  \n",
    "            xl[i] = x[i]-1 \n",
    "            nd.append(xl)\n",
    "        \n",
    "        # x-upper\n",
    "        if x[i] < bb[i]: # (!) mutation correction ..  -- // --\n",
    "            xu = x.copy()   \n",
    "            xu[i] = x[i]+1 if x[i] < bb[i] else bb[i] \n",
    "            nd.append(xu)\n",
    "        \n",
    "    return nd"
   ]
  },
  {
   "cell_type": "code",
   "execution_count": 19,
   "metadata": {
    "collapsed": false
   },
   "outputs": [
    {
     "name": "stdout",
     "output_type": "stream",
     "text": [
      "[1 2 2 1 0] :\n",
      "[array([0, 2, 2, 1, 0]), array([2, 2, 2, 1, 0]), array([1, 1, 2, 1, 0]), array([1, 3, 2, 1, 0]), array([1, 2, 1, 1, 0]), array([1, 2, 2, 0, 0])]\n"
     ]
    }
   ],
   "source": [
    "print(x, ':')\n",
    "print(get_neighborhood(x))"
   ]
  }
 ],
 "metadata": {
  "kernelspec": {
   "display_name": "Python 3",
   "language": "python",
   "name": "python3"
  },
  "language_info": {
   "codemirror_mode": {
    "name": "ipython",
    "version": 3
   },
   "file_extension": ".py",
   "mimetype": "text/x-python",
   "name": "python",
   "nbconvert_exporter": "python",
   "pygments_lexer": "ipython3",
   "version": "3.5.1"
  }
 },
 "nbformat": 4,
 "nbformat_minor": 0
}
