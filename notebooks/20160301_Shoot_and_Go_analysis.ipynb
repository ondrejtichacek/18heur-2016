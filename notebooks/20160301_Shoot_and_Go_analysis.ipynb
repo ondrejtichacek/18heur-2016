{
 "cells": [
  {
   "cell_type": "markdown",
   "metadata": {},
   "source": [
    "# Aims\n",
    "\n",
    "* Implement $\\mathrm{SG}_{hmax}$: Shoot & Go heuristic (also known as *Iterated Local Search*, *Random-restart hill climbing*, etc)\n",
    "    * $hmax \\in \\{ 0, 1, \\ldots, \\infty \\}$ parameter - maximum number of local searches / hill climbs\n",
    "    * note that $\\mathrm{SG}_{0}$ is pure Random Shooting (Random Search)\n",
    "* Implement and test on the \"Air Ship\" objective function\n",
    "* **How does the $FEO$ criterion change based on the $hmax$ parameter**?\n",
    "* **The same for objective function of your choice**\n",
    "    * TSP, KP, or any other combinatorial problem\n",
    "    * Implement some of typical benchmark problems http://www.geatbx.com/docu/fcnindex-01.html (in a discrete version)"
   ]
  },
  {
   "cell_type": "markdown",
   "metadata": {},
   "source": [
    "## Notes\n",
    "\n",
    "* Reliability: $REL = m/q$ where $m$ is number of successful runs and $q$ is total number of runs, $REL \\in [0, 1]$\n",
    "* Mean Number of objective function Evaluations: $MNE = \\frac{1}{m} \\sum_{i=1}^m neval_i$\n",
    "* Feoktistov criterion: $FEO = MNE/REL$\n"
   ]
  },
  {
   "cell_type": "markdown",
   "metadata": {},
   "source": [
    "----------\n",
    "\n",
    "### Set up IPython notebook environment first..."
   ]
  },
  {
   "cell_type": "code",
   "execution_count": 1,
   "metadata": {
    "collapsed": false
   },
   "outputs": [],
   "source": [
    "# Import path to source directory (bit of a hack in IPython)\n",
    "import sys\n",
    "pwd = %pwd\n",
    "sys.path.append('\\\\'.join(pwd.split('\\\\')[:-1])+'\\\\src')\n",
    "\n",
    "# And ensure modules are reloaded on any change (useful when developing code on the fly, etc)\n",
    "get_ipython().magic('load_ext autoreload')\n",
    "get_ipython().magic('autoreload 2')"
   ]
  },
  {
   "cell_type": "markdown",
   "metadata": {},
   "source": [
    "### Import our (new) modules from ``src`` folder"
   ]
  },
  {
   "cell_type": "code",
   "execution_count": 2,
   "metadata": {
    "collapsed": false
   },
   "outputs": [],
   "source": [
    "from heur import ShootAndGo\n",
    "from objfun import AirShip"
   ]
  },
  {
   "cell_type": "markdown",
   "metadata": {},
   "source": [
    "# Demo runs"
   ]
  },
  {
   "cell_type": "code",
   "execution_count": 3,
   "metadata": {
    "collapsed": true
   },
   "outputs": [],
   "source": [
    "import numpy as np"
   ]
  },
  {
   "cell_type": "markdown",
   "metadata": {},
   "source": [
    "### $\\mathrm{SG}_{\\infty}$"
   ]
  },
  {
   "cell_type": "code",
   "execution_count": 4,
   "metadata": {
    "collapsed": false
   },
   "outputs": [
    {
     "name": "stdout",
     "output_type": "stream",
     "text": [
      "{'neval': 74, 'best_x': 50, 'best_y': -100.0}\n"
     ]
    }
   ],
   "source": [
    "heur = ShootAndGo(AirShip(-100, 0, 800), maxeval=100, hmax=np.inf)\n",
    "print(heur.search())"
   ]
  },
  {
   "cell_type": "markdown",
   "metadata": {},
   "source": [
    "### $\\mathrm{SG}_{10}$"
   ]
  },
  {
   "cell_type": "code",
   "execution_count": 5,
   "metadata": {
    "collapsed": false
   },
   "outputs": [
    {
     "name": "stdout",
     "output_type": "stream",
     "text": [
      "{'neval': inf, 'best_x': 24, 'best_y': -48.0}\n"
     ]
    }
   ],
   "source": [
    "heur = ShootAndGo(AirShip(-100, 0, 800), maxeval=100, hmax=10)\n",
    "print(heur.search())"
   ]
  },
  {
   "cell_type": "markdown",
   "metadata": {},
   "source": [
    "### $\\mathrm{SG}_{0}$"
   ]
  },
  {
   "cell_type": "code",
   "execution_count": 6,
   "metadata": {
    "collapsed": false
   },
   "outputs": [
    {
     "name": "stdout",
     "output_type": "stream",
     "text": [
      "{'neval': 55, 'best_x': 50, 'best_y': -100.0}\n"
     ]
    }
   ],
   "source": [
    "heur = ShootAndGo(AirShip(-100, 0, 800), maxeval=100, hmax=0)\n",
    "print(heur.search())"
   ]
  },
  {
   "cell_type": "markdown",
   "metadata": {},
   "source": [
    "# What number of runs $M$ to choose?"
   ]
  },
  {
   "cell_type": "code",
   "execution_count": 7,
   "metadata": {
    "collapsed": true
   },
   "outputs": [],
   "source": [
    "import pandas as pd"
   ]
  },
  {
   "cell_type": "code",
   "execution_count": 8,
   "metadata": {
    "collapsed": true
   },
   "outputs": [],
   "source": [
    "def experiment(M):\n",
    "    res = []\n",
    "    for i in range(M):\n",
    "        heur = ShootAndGo(AirShip(-100, 0, 800), maxeval=100, hmax=0)\n",
    "        res.append(heur.search())\n",
    "    return pd.DataFrame(res)"
   ]
  },
  {
   "cell_type": "code",
   "execution_count": 9,
   "metadata": {
    "collapsed": false
   },
   "outputs": [],
   "source": [
    "rels = []\n",
    "for m in [30, 50, 100, 200, 300, 500, 1000, 10000]:\n",
    "    heur_res = experiment(m)\n",
    "    rels.append({'M': m, 'rel': sum(heur_res['neval']<np.inf)/heur_res.shape[0]})\n",
    "\n",
    "df_rels = pd.DataFrame(rels)"
   ]
  },
  {
   "cell_type": "code",
   "execution_count": 10,
   "metadata": {
    "collapsed": false
   },
   "outputs": [
    {
     "data": {
      "text/html": [
       "<div>\n",
       "<table border=\"1\" class=\"dataframe\">\n",
       "  <thead>\n",
       "    <tr style=\"text-align: right;\">\n",
       "      <th></th>\n",
       "      <th>M</th>\n",
       "      <th>rel</th>\n",
       "    </tr>\n",
       "  </thead>\n",
       "  <tbody>\n",
       "    <tr>\n",
       "      <th>0</th>\n",
       "      <td>30</td>\n",
       "      <td>0.166667</td>\n",
       "    </tr>\n",
       "    <tr>\n",
       "      <th>1</th>\n",
       "      <td>50</td>\n",
       "      <td>0.160000</td>\n",
       "    </tr>\n",
       "    <tr>\n",
       "      <th>2</th>\n",
       "      <td>100</td>\n",
       "      <td>0.100000</td>\n",
       "    </tr>\n",
       "    <tr>\n",
       "      <th>3</th>\n",
       "      <td>200</td>\n",
       "      <td>0.135000</td>\n",
       "    </tr>\n",
       "    <tr>\n",
       "      <th>4</th>\n",
       "      <td>300</td>\n",
       "      <td>0.120000</td>\n",
       "    </tr>\n",
       "    <tr>\n",
       "      <th>5</th>\n",
       "      <td>500</td>\n",
       "      <td>0.140000</td>\n",
       "    </tr>\n",
       "    <tr>\n",
       "      <th>6</th>\n",
       "      <td>1000</td>\n",
       "      <td>0.124000</td>\n",
       "    </tr>\n",
       "    <tr>\n",
       "      <th>7</th>\n",
       "      <td>10000</td>\n",
       "      <td>0.116000</td>\n",
       "    </tr>\n",
       "  </tbody>\n",
       "</table>\n",
       "</div>"
      ],
      "text/plain": [
       "       M       rel\n",
       "0     30  0.166667\n",
       "1     50  0.160000\n",
       "2    100  0.100000\n",
       "3    200  0.135000\n",
       "4    300  0.120000\n",
       "5    500  0.140000\n",
       "6   1000  0.124000\n",
       "7  10000  0.116000"
      ]
     },
     "execution_count": 10,
     "metadata": {},
     "output_type": "execute_result"
    }
   ],
   "source": [
    "df_rels"
   ]
  },
  {
   "cell_type": "code",
   "execution_count": 11,
   "metadata": {
    "collapsed": true
   },
   "outputs": [],
   "source": [
    "import matplotlib.pyplot as plt\n",
    "get_ipython().magic('matplotlib inline')\n",
    "import seaborn"
   ]
  },
  {
   "cell_type": "code",
   "execution_count": 12,
   "metadata": {
    "collapsed": false
   },
   "outputs": [
    {
     "data": {
      "text/plain": [
       "<matplotlib.axes._subplots.AxesSubplot at 0x8a6a2dbb38>"
      ]
     },
     "execution_count": 12,
     "metadata": {},
     "output_type": "execute_result"
    },
    {
     "data": {
      "image/png": "[encoded data removed]",
      "text/plain": [
       "<matplotlib.figure.Figure at 0x8a68775710>"
      ]
     },
     "metadata": {},
     "output_type": "display_data"
    }
   ],
   "source": [
    "df_rels.plot(x='M', y='rel', kind='scatter')"
   ]
  },
  {
   "cell_type": "markdown",
   "metadata": {},
   "source": [
    "# ``hmax`` analysis"
   ]
  },
  {
   "cell_type": "code",
   "execution_count": 13,
   "metadata": {
    "collapsed": true
   },
   "outputs": [],
   "source": [
    "def experiment_hmax(hmax):\n",
    "    res = []\n",
    "    for i in range(10000):\n",
    "        heur = ShootAndGo(AirShip(-100, 0, 800), maxeval=100, hmax=hmax)\n",
    "        res.append(heur.search())\n",
    "    return pd.DataFrame(res)"
   ]
  },
  {
   "cell_type": "code",
   "execution_count": 14,
   "metadata": {
    "collapsed": true
   },
   "outputs": [],
   "source": [
    "def stat_feo(res):\n",
    "    mne = np.mean(res[res['neval']<np.inf]['neval'])\n",
    "    rel = sum(res['neval']<np.inf)/res.shape[0]\n",
    "    return {\n",
    "        'mne': mne,\n",
    "        'rel': rel,\n",
    "        'feo': mne/rel\n",
    "    }"
   ]
  },
  {
   "cell_type": "code",
   "execution_count": 15,
   "metadata": {
    "collapsed": false
   },
   "outputs": [],
   "source": [
    "feos = []\n",
    "for hmax in np.concatenate((np.arange(0, 10+1), [np.inf])):\n",
    "    heur_res = experiment_hmax(hmax)\n",
    "    stat = stat_feo(heur_res)\n",
    "    feos.append({\n",
    "            'hmax': hmax, \n",
    "            'mne': stat['mne'],\n",
    "            'rel': stat['rel'],\n",
    "            'feo': stat['feo']\n",
    "        })\n",
    "df_feos = pd.DataFrame(feos)"
   ]
  },
  {
   "cell_type": "code",
   "execution_count": 16,
   "metadata": {
    "collapsed": false
   },
   "outputs": [
    {
     "data": {
      "text/html": [
       "<div>\n",
       "<table border=\"1\" class=\"dataframe\">\n",
       "  <thead>\n",
       "    <tr style=\"text-align: right;\">\n",
       "      <th></th>\n",
       "      <th>feo</th>\n",
       "      <th>hmax</th>\n",
       "      <th>mne</th>\n",
       "      <th>rel</th>\n",
       "    </tr>\n",
       "  </thead>\n",
       "  <tbody>\n",
       "    <tr>\n",
       "      <th>0</th>\n",
       "      <td>425.329426</td>\n",
       "      <td>0.000000</td>\n",
       "      <td>48.274890</td>\n",
       "      <td>0.1135</td>\n",
       "    </tr>\n",
       "    <tr>\n",
       "      <th>1</th>\n",
       "      <td>434.344248</td>\n",
       "      <td>1.000000</td>\n",
       "      <td>50.297064</td>\n",
       "      <td>0.1158</td>\n",
       "    </tr>\n",
       "    <tr>\n",
       "      <th>2</th>\n",
       "      <td>427.977839</td>\n",
       "      <td>2.000000</td>\n",
       "      <td>48.789474</td>\n",
       "      <td>0.1140</td>\n",
       "    </tr>\n",
       "    <tr>\n",
       "      <th>3</th>\n",
       "      <td>398.920832</td>\n",
       "      <td>3.000000</td>\n",
       "      <td>49.944888</td>\n",
       "      <td>0.1252</td>\n",
       "    </tr>\n",
       "    <tr>\n",
       "      <th>4</th>\n",
       "      <td>410.462259</td>\n",
       "      <td>4.000000</td>\n",
       "      <td>48.968148</td>\n",
       "      <td>0.1193</td>\n",
       "    </tr>\n",
       "    <tr>\n",
       "      <th>5</th>\n",
       "      <td>392.067444</td>\n",
       "      <td>5.000000</td>\n",
       "      <td>50.145426</td>\n",
       "      <td>0.1279</td>\n",
       "    </tr>\n",
       "    <tr>\n",
       "      <th>6</th>\n",
       "      <td>373.296611</td>\n",
       "      <td>6.000000</td>\n",
       "      <td>49.424471</td>\n",
       "      <td>0.1324</td>\n",
       "    </tr>\n",
       "    <tr>\n",
       "      <th>7</th>\n",
       "      <td>370.563384</td>\n",
       "      <td>7.000000</td>\n",
       "      <td>49.396099</td>\n",
       "      <td>0.1333</td>\n",
       "    </tr>\n",
       "    <tr>\n",
       "      <th>8</th>\n",
       "      <td>383.106384</td>\n",
       "      <td>8.000000</td>\n",
       "      <td>48.731132</td>\n",
       "      <td>0.1272</td>\n",
       "    </tr>\n",
       "    <tr>\n",
       "      <th>9</th>\n",
       "      <td>382.418242</td>\n",
       "      <td>9.000000</td>\n",
       "      <td>50.632175</td>\n",
       "      <td>0.1324</td>\n",
       "    </tr>\n",
       "    <tr>\n",
       "      <th>10</th>\n",
       "      <td>362.234135</td>\n",
       "      <td>10.000000</td>\n",
       "      <td>50.278098</td>\n",
       "      <td>0.1388</td>\n",
       "    </tr>\n",
       "    <tr>\n",
       "      <th>11</th>\n",
       "      <td>284.531171</td>\n",
       "      <td>inf</td>\n",
       "      <td>54.260094</td>\n",
       "      <td>0.1907</td>\n",
       "    </tr>\n",
       "  </tbody>\n",
       "</table>\n",
       "</div>"
      ],
      "text/plain": [
       "           feo       hmax        mne     rel\n",
       "0   425.329426   0.000000  48.274890  0.1135\n",
       "1   434.344248   1.000000  50.297064  0.1158\n",
       "2   427.977839   2.000000  48.789474  0.1140\n",
       "3   398.920832   3.000000  49.944888  0.1252\n",
       "4   410.462259   4.000000  48.968148  0.1193\n",
       "5   392.067444   5.000000  50.145426  0.1279\n",
       "6   373.296611   6.000000  49.424471  0.1324\n",
       "7   370.563384   7.000000  49.396099  0.1333\n",
       "8   383.106384   8.000000  48.731132  0.1272\n",
       "9   382.418242   9.000000  50.632175  0.1324\n",
       "10  362.234135  10.000000  50.278098  0.1388\n",
       "11  284.531171        inf  54.260094  0.1907"
      ]
     },
     "execution_count": 16,
     "metadata": {},
     "output_type": "execute_result"
    }
   ],
   "source": [
    "df_feos"
   ]
  },
  {
   "cell_type": "code",
   "execution_count": 18,
   "metadata": {
    "collapsed": false
   },
   "outputs": [
    {
     "data": {
      "text/plain": [
       "<matplotlib.axes._subplots.AxesSubplot at 0x8a6b161828>"
      ]
     },
     "execution_count": 18,
     "metadata": {},
     "output_type": "execute_result"
    },
    {
     "data": {
      "image/png": "[encoded data removed]",
      "text/plain": [
       "<matplotlib.figure.Figure at 0x8a6a5f18d0>"
      ]
     },
     "metadata": {},
     "output_type": "display_data"
    }
   ],
   "source": [
    "df_feos.plot(x='hmax', y='rel', kind='bar')"
   ]
  },
  {
   "cell_type": "code",
   "execution_count": 19,
   "metadata": {
    "collapsed": false
   },
   "outputs": [
    {
     "data": {
      "text/plain": [
       "<matplotlib.axes._subplots.AxesSubplot at 0x8a6a5e27f0>"
      ]
     },
     "execution_count": 19,
     "metadata": {},
     "output_type": "execute_result"
    },
    {
     "data": {
      "image/png": "[encoded data removed]",
      "text/plain": [
       "<matplotlib.figure.Figure at 0x8a603e2208>"
      ]
     },
     "metadata": {},
     "output_type": "display_data"
    }
   ],
   "source": [
    "df_feos.plot(x='hmax', y='mne', kind='bar')"
   ]
  },
  {
   "cell_type": "code",
   "execution_count": 17,
   "metadata": {
    "collapsed": false
   },
   "outputs": [
    {
     "data": {
      "text/plain": [
       "<matplotlib.axes._subplots.AxesSubplot at 0x8a6a3c3978>"
      ]
     },
     "execution_count": 17,
     "metadata": {},
     "output_type": "execute_result"
    },
    {
     "data": {
      "image/png": "[encoded data removed]",
      "text/plain": [
       "<matplotlib.figure.Figure at 0x8a6a597e80>"
      ]
     },
     "metadata": {},
     "output_type": "display_data"
    }
   ],
   "source": [
    "df_feos.plot(x='hmax', y='feo', kind='bar')"
   ]
  }
 ],
 "metadata": {
  "kernelspec": {
   "display_name": "Python 3",
   "language": "python",
   "name": "python3"
  },
  "language_info": {
   "codemirror_mode": {
    "name": "ipython",
    "version": 3
   },
   "file_extension": ".py",
   "mimetype": "text/x-python",
   "name": "python",
   "nbconvert_exporter": "python",
   "pygments_lexer": "ipython3",
   "version": "3.5.1"
  }
 },
 "nbformat": 4,
 "nbformat_minor": 0
}
