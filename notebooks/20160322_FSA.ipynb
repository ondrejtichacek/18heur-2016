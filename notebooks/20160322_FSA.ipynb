{
 "cells": [
  {
   "cell_type": "markdown",
   "metadata": {},
   "source": [
    "### Fast Simulated Annealing\n",
    "\n",
    "Few hints:\n",
    "\n",
    "* $T_0 \\in \\mathbb{R}$ initial temperature\n",
    "* $ n_0 \\in \\mathbb{N} $ and $ \\alpha \\in \\mathbb{R} $  - cooling strategy parameters\n",
    "* $k$-th step:\n",
    "  * **Mutate** the solution ``x`` -> ``y``\n",
    "  * $ T = \\frac{T_0}{1+(k/n_0)^\\alpha} $ for $ \\alpha > 0 $,\n",
    "  * $ T = T_0 \\cdot \\exp(-(k/n_0)^{-\\alpha}) $ otherwise.\n",
    "  * $s = \\frac{f_x-f_y}{T}$\n",
    "  * replace ``x`` if $u < 1/2 + \\arctan(s)/\\pi$ where $u$ is random uniform number\n",
    "  \n",
    "Cauchy **mutation operator**:\n",
    "\n",
    "* mutation perimeter (width) controlled by parameter $R \\in \\mathbb{R}$\n",
    "* $ \\boldsymbol{\\mathsf{x}}_\\mathrm{new} = \\boldsymbol{\\mathsf{x}} + R \\cdot \\tan{\\left(\\pi \\left(\\boldsymbol{\\mathsf{r}} - \\dfrac{1}{2}\\right)\\right)} $ where $\\boldsymbol{\\mathsf{r}}$ is random uniform vector"
   ]
  },
  {
   "cell_type": "markdown",
   "metadata": {},
   "source": [
    "##### IPython notebook setup"
   ]
  },
  {
   "cell_type": "code",
   "execution_count": 1,
   "metadata": {
    "collapsed": false
   },
   "outputs": [],
   "source": [
    "# Import path to source directory (bit of a hack in IPython)\n",
    "import sys\n",
    "import os\n",
    "pwd = %pwd\n",
    "sys.path.append(os.path.join(pwd, '../src'))\n",
    "\n",
    "# And ensure modules are reloaded on any change (useful when developing code on the fly, etc)\n",
    "get_ipython().magic('load_ext autoreload')\n",
    "get_ipython().magic('autoreload 2')"
   ]
  },
  {
   "cell_type": "code",
   "execution_count": 2,
   "metadata": {
    "collapsed": true
   },
   "outputs": [],
   "source": [
    "import numpy as np"
   ]
  },
  {
   "cell_type": "markdown",
   "metadata": {},
   "source": [
    "## FSA demonstration"
   ]
  },
  {
   "cell_type": "code",
   "execution_count": 3,
   "metadata": {
    "collapsed": false
   },
   "outputs": [],
   "source": [
    "from heur import FSA\n",
    "from objfun import TSPGrid, Zebra3"
   ]
  },
  {
   "cell_type": "code",
   "execution_count": 4,
   "metadata": {
    "collapsed": false
   },
   "outputs": [
    {
     "name": "stdout",
     "output_type": "stream",
     "text": [
      "{'neval': 36, 'best_x': array([ 0.,  1.,  2.,  1.,  0.]), 'best_y': 6.0}\n"
     ]
    }
   ],
   "source": [
    "heur = FSA(TSPGrid(3, 2), maxeval=100, T0=0.1, n0=100, alpha=2, r=0.5)\n",
    "print(heur.search())"
   ]
  },
  {
   "cell_type": "code",
   "execution_count": 5,
   "metadata": {
    "collapsed": false
   },
   "outputs": [
    {
     "name": "stdout",
     "output_type": "stream",
     "text": [
      "{'neval': 6282, 'best_x': array([ 0.,  0.,  0.,  1.,  1.,  1.,  0.,  0.,  0.,  1.,  1.,  1.,  0.,\n",
      "        0.,  0.,  1.,  1.,  1.]), 'best_y': 0.0}\n"
     ]
    }
   ],
   "source": [
    "heur = FSA(Zebra3(6), maxeval=10000, T0=0.1, n0=100, alpha=2, r=0.5)\n",
    "print(heur.search())"
   ]
  },
  {
   "cell_type": "markdown",
   "metadata": {},
   "source": [
    "# Excercises:\n",
    "\n",
    "1. Implement FSA\n",
    "1. Experiment with parameters:\n",
    "   * Track and visualize their change during optimization.\n",
    "   * What is their effect on FEO? \n",
    "   * How does FEO change on different objective functions?\n",
    "1. Compare FSA with Shoot and Go\n",
    "1. Try different mutations, e.g. Gauss one. Or Lévy Flight.\n",
    "1. Could you come up with different mutation correction?"
   ]
  }
 ],
 "metadata": {
  "kernelspec": {
   "display_name": "Python 3",
   "language": "python",
   "name": "python3"
  },
  "language_info": {
   "codemirror_mode": {
    "name": "ipython",
    "version": 3
   },
   "file_extension": ".py",
   "mimetype": "text/x-python",
   "name": "python",
   "nbconvert_exporter": "python",
   "pygments_lexer": "ipython3",
   "version": "3.5.1"
  }
 },
 "nbformat": 4,
 "nbformat_minor": 0
}
