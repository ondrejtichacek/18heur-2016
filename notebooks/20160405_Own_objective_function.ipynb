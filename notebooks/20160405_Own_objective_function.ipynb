{
 "cells": [
  {
   "cell_type": "markdown",
   "metadata": {},
   "source": [
    "# Implement your own objective function to test and tune heuristics on\n",
    "\n",
    "* [Change-Making Problem](http://en.wikipedia.org/wiki/Change-making_problem)\n",
    "* [Clustering](http://en.wikipedia.org/wiki/Cluster_analysis), [Sociogram](http://en.wikipedia.org/wiki/Sociogram) as an example\n",
    "* [Knapsack Problem](http://en.wikipedia.org/wiki/Knapsack_problem) - either as 0/1, or $\\mathbb{Z}^n$ one\n",
    "* [Maximum Clique Problem](http://en.wikipedia.org/wiki/Clique_problem)\n",
    "* [Set Covering Problem](http://en.wikipedia.org/wiki/Set_cover_problem)\n",
    "* [Travelling Salesman Problem](http://en.wikipedia.org/wiki/Travelling_salesman_problem) \n",
    "  * with other geometry than currently implemented grid, or\n",
    "  * let's try reasonably large instances from [TSPLIB](http://elib.zib.de/pub/mp-testdata/tsp/tsplib/tsplib.html)"
   ]
  }
 ],
 "metadata": {
  "kernelspec": {
   "display_name": "Python 3",
   "language": "python",
   "name": "python3"
  },
  "language_info": {
   "codemirror_mode": {
    "name": "ipython",
    "version": 3
   },
   "file_extension": ".py",
   "mimetype": "text/x-python",
   "name": "python",
   "nbconvert_exporter": "python",
   "pygments_lexer": "ipython3",
   "version": "3.5.1"
  }
 },
 "nbformat": 4,
 "nbformat_minor": 0
}
