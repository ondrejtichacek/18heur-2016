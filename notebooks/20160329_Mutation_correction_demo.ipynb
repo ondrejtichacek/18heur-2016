{
 "cells": [
  {
   "cell_type": "markdown",
   "metadata": {},
   "source": [
    "# Mutation correction"
   ]
  },
  {
   "cell_type": "markdown",
   "metadata": {},
   "source": [
    "Let's imagine that we want to mutate vector $(4, 5)$ with mask $(1, -3)$. That would result in vector $(5, 2)$ which lays out of domain between $\\boldsymbol{\\mathsf{a}} = (3, 3)$ and $ \\boldsymbol{\\mathsf{b}} = (9, 8)$.\n",
    "\n",
    "Following image illustrates this exact situation:"
   ]
  },
  {
   "cell_type": "markdown",
   "metadata": {},
   "source": [
    "<img src=\"20160329_correction-example.gif\">"
   ]
  },
  {
   "cell_type": "markdown",
   "metadata": {},
   "source": [
    "We have three straightforward options:\n",
    "\n",
    "1. cut off the new vector on the edge of the domain, i.e. $\\boldsymbol{\\mathsf{x_\\mathrm{new}}} = (5,3)$,\n",
    "2. read the new vector from periodic expansion of the domain, i.e. $\\boldsymbol{\\mathsf{x_\\mathrm{new}}} = (5,7)$,\n",
    "3. read the new vector as mirror image of the old vector back into the domain i.e. $\\boldsymbol{\\mathsf{x_\\mathrm{new}}} = (5,4)$.\n",
    "\n",
    "Graphically:"
   ]
  },
  {
   "cell_type": "markdown",
   "metadata": {},
   "source": [
    "<img src=\"20160329_correction-strategies.gif\">"
   ]
  },
  {
   "cell_type": "markdown",
   "metadata": {},
   "source": [
    "Currently we have implemented only the first option, **let's now implement the other two**."
   ]
  }
 ],
 "metadata": {
  "kernelspec": {
   "display_name": "Python 3",
   "language": "python",
   "name": "python3"
  },
  "language_info": {
   "codemirror_mode": {
    "name": "ipython",
    "version": 3
   },
   "file_extension": ".py",
   "mimetype": "text/x-python",
   "name": "python",
   "nbconvert_exporter": "python",
   "pygments_lexer": "ipython3",
   "version": "3.5.1"
  }
 },
 "nbformat": 4,
 "nbformat_minor": 0
}
