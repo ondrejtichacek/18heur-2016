{
 "cells": [
  {
   "cell_type": "markdown",
   "metadata": {},
   "source": [
    "##### IPython notebook setup"
   ]
  },
  {
   "cell_type": "code",
   "execution_count": 1,
   "metadata": {
    "collapsed": true
   },
   "outputs": [],
   "source": [
    "# Import path to source directory (bit of a hack in IPython)\n",
    "import sys\n",
    "import os\n",
    "pwd = %pwd\n",
    "sys.path.append(os.path.join(pwd, '../src'))\n",
    "\n",
    "# And ensure modules are reloaded on any change (useful when developing code on the fly, etc)\n",
    "get_ipython().magic('load_ext autoreload')\n",
    "get_ipython().magic('autoreload 2')"
   ]
  },
  {
   "cell_type": "code",
   "execution_count": 2,
   "metadata": {
    "collapsed": true
   },
   "outputs": [],
   "source": [
    "import numpy as np\n",
    "import pandas as pd"
   ]
  },
  {
   "cell_type": "markdown",
   "metadata": {},
   "source": [
    "## GO demonstration"
   ]
  },
  {
   "cell_type": "code",
   "execution_count": 3,
   "metadata": {
    "collapsed": true
   },
   "outputs": [],
   "source": [
    "from heur import GO\n",
    "from objfun import Zebra3"
   ]
  },
  {
   "cell_type": "code",
   "execution_count": 4,
   "metadata": {
    "collapsed": true
   },
   "outputs": [],
   "source": [
    "def experiment_GO(M=100, n=10, maxeval=10000):\n",
    "    rows = []\n",
    "    for i in range(M):        \n",
    "        heur = GO(Zebra3(6), maxeval=maxeval, n=n, m=n*10, t_sel1=1, t_sel2=0.1, r=0.35, co_m=5)\n",
    "        row = heur.search()\n",
    "        row['maxeval'] = maxeval\n",
    "        row['n'] = n\n",
    "        rows.append(row)\n",
    "    return pd.DataFrame(rows)"
   ]
  },
  {
   "cell_type": "code",
   "execution_count": 5,
   "metadata": {
    "collapsed": false
   },
   "outputs": [],
   "source": [
    "tab_go = experiment_GO(M=100)"
   ]
  },
  {
   "cell_type": "code",
   "execution_count": 6,
   "metadata": {
    "collapsed": true
   },
   "outputs": [],
   "source": [
    "def mne(x):\n",
    "    return np.mean(x[x<np.inf])\n",
    "\n",
    "def rel(x):\n",
    "    return np.NaN if np.size(x) == 0 else np.size(x[x<np.inf])/np.size(x)\n",
    "\n",
    "def feo(x):\n",
    "    return np.NaN if rel(x) == 0 else mne(x)/rel(x)"
   ]
  },
  {
   "cell_type": "code",
   "execution_count": 7,
   "metadata": {
    "collapsed": false
   },
   "outputs": [
    {
     "data": {
      "text/html": [
       "<div>\n",
       "<table border=\"1\" class=\"dataframe\">\n",
       "  <thead>\n",
       "    <tr>\n",
       "      <th></th>\n",
       "      <th>rel</th>\n",
       "      <th>mne</th>\n",
       "      <th>feo</th>\n",
       "    </tr>\n",
       "    <tr>\n",
       "      <th></th>\n",
       "      <th>neval</th>\n",
       "      <th>neval</th>\n",
       "      <th>neval</th>\n",
       "    </tr>\n",
       "    <tr>\n",
       "      <th>n</th>\n",
       "      <th></th>\n",
       "      <th></th>\n",
       "      <th></th>\n",
       "    </tr>\n",
       "  </thead>\n",
       "  <tbody>\n",
       "    <tr>\n",
       "      <th>10</th>\n",
       "      <td>0.96</td>\n",
       "      <td>3938.479167</td>\n",
       "      <td>4102.582465</td>\n",
       "    </tr>\n",
       "  </tbody>\n",
       "</table>\n",
       "</div>"
      ],
      "text/plain": [
       "     rel          mne          feo\n",
       "   neval        neval        neval\n",
       "n                                 \n",
       "10  0.96  3938.479167  4102.582465"
      ]
     },
     "execution_count": 7,
     "metadata": {},
     "output_type": "execute_result"
    }
   ],
   "source": [
    "tab_go.pivot_table(\n",
    "    values=['neval'],\n",
    "    index=['n'],\n",
    "    aggfunc=[rel, mne, feo]\n",
    ")"
   ]
  },
  {
   "cell_type": "markdown",
   "metadata": {},
   "source": [
    "# Excercises:\n",
    "\n",
    "1. Implement GO\n",
    "1. Experiment with parameters:\n",
    "   * Track and visualize their change during optimization.\n",
    "   * What is their effect on FEO? \n",
    "1. Compare GO and FSA, or tune GO on other objective functions"
   ]
  }
 ],
 "metadata": {
  "kernelspec": {
   "display_name": "Python 3",
   "language": "python",
   "name": "python3"
  },
  "language_info": {
   "codemirror_mode": {
    "name": "ipython",
    "version": 3
   },
   "file_extension": ".py",
   "mimetype": "text/x-python",
   "name": "python",
   "nbconvert_exporter": "python",
   "pygments_lexer": "ipython3",
   "version": "3.5.1"
  }
 },
 "nbformat": 4,
 "nbformat_minor": 0
}
