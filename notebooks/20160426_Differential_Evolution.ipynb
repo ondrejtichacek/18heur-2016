{
 "cells": [
  {
   "cell_type": "markdown",
   "metadata": {},
   "source": [
    "# Differential Evolution\n",
    "\n",
    "Reccommended excercises:\n",
    "\n",
    "1. **Implement basic (continuous) DE**, which is well defined on [Wikipedia](https://en.wikipedia.org/wiki/Differential_evolution)\n",
    "2. **Implement contiuous version of Random Shooting**\n",
    "3. **Compare on benchmark objective functions** defined on http://www.geatbx.com/docu/fcnindex-01.html, e.g.:\n",
    "   1. De Jong's function 1\n",
    "   2. Rastrigin's function 6"
   ]
  }
 ],
 "metadata": {
  "kernelspec": {
   "display_name": "Python 3",
   "language": "python",
   "name": "python3"
  },
  "language_info": {
   "codemirror_mode": {
    "name": "ipython",
    "version": 3
   },
   "file_extension": ".py",
   "mimetype": "text/x-python",
   "name": "python",
   "nbconvert_exporter": "python",
   "pygments_lexer": "ipython3",
   "version": "3.5.1"
  }
 },
 "nbformat": 4,
 "nbformat_minor": 0
}
