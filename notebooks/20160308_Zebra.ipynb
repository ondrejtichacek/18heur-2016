{
 "cells": [
  {
   "cell_type": "markdown",
   "metadata": {},
   "source": [
    "# Clerc's Zebra-3 objective function\n",
    "\n",
    "Clerc's Zebra-3 problem is a non-trivial binary optimization problem and part of discrete optimization benchmark problems (Hierarchical swarm model: a new approach to optimization, Chen et al, 2010).\n",
    "\n",
    "Zebra-3 function is defined for $d = 3 \\, d^*$, $d^* \\in \\mathbb{N}$ as\n",
    "$$ \\mathrm{z}(\\boldsymbol{\\mathsf{x}}) = \\sum_{k=1}^{d^*} \\mathrm{z}_{1+\\mathrm{mod}(k-1,2)} (\\boldsymbol{\\mathsf{\\xi}}_k) $$\n",
    "where\n",
    "$\\boldsymbol{\\mathsf{\\xi}}_k = (x_{3\\,k-2}, \\ldots, x_{3\\,k})$ and\n",
    "\n",
    "$$\n",
    "\\mathrm{z_1}(\\boldsymbol{\\mathsf{\\xi}}) = \\left\\{\n",
    "\\begin{array}{c l}     \n",
    "    0.9 & \\  \\mathrm{for} \\  | | \\boldsymbol{\\mathsf{\\xi}} | |_1=0 \\\\\n",
    "    0.6 & \\  \\mathrm{for} \\  | | \\boldsymbol{\\mathsf{\\xi}} | | _1=1 \\\\\n",
    "    0.3 & \\  \\mathrm{for} \\  | | \\boldsymbol{\\mathsf{\\xi}} | | _1=2 \\\\\n",
    "    1.0 & \\  \\mathrm{for} \\  | | \\boldsymbol{\\mathsf{\\xi}} | | _1=3  \n",
    "\\end{array}\\right.\n",
    "$$\n",
    "\n",
    "$$\n",
    "\\mathrm{z_2}(\\boldsymbol{\\mathsf{\\xi}}) = \\left\\{\n",
    "\\begin{array}{c l}     \n",
    "    0.9 & \\mathrm{for} \\  | | \\boldsymbol{\\mathsf{\\xi}} | |_1=3 \\\\\n",
    "    0.6 & \\mathrm{for} \\  | | \\boldsymbol{\\mathsf{\\xi}} | |_1=2 \\\\\n",
    "    0.3 & \\mathrm{for} \\  | | \\boldsymbol{\\mathsf{\\xi}} | |_1=1 \\\\\n",
    "    1.0 & \\mathrm{for} \\  | | \\boldsymbol{\\mathsf{\\xi}} | |_1=0 \n",
    "\\end{array}\\right.\n",
    "$$\n",
    "\n",
    "Zebra-3 function is a subject of maximization with maximum value of $d/3$. Therefore  we will minimize \n",
    "\n",
    "$$\\mathrm{f}(\\boldsymbol{\\mathsf{x}})=\\frac{d}{3} - \\mathrm{z}(\\boldsymbol{\\mathsf{x}})$$\n",
    "\n",
    "with $f^* = 0$."
   ]
  },
  {
   "cell_type": "markdown",
   "metadata": {},
   "source": [
    "<img src=\"20160308_zebra3.png\">"
   ]
  },
  {
   "cell_type": "markdown",
   "metadata": {},
   "source": [
    "### Set up IPython notebook environment first..."
   ]
  },
  {
   "cell_type": "code",
   "execution_count": 1,
   "metadata": {
    "collapsed": false
   },
   "outputs": [],
   "source": [
    "# Import path to source directory (bit of a hack in IPython)\n",
    "import sys\n",
    "import os\n",
    "pwd = %pwd\n",
    "sys.path.append(os.path.join(pwd, '../src'))\n",
    "\n",
    "# And ensure modules are reloaded on any change (useful when developing code on the fly, etc)\n",
    "get_ipython().magic('load_ext autoreload')\n",
    "get_ipython().magic('autoreload 2')"
   ]
  },
  {
   "cell_type": "code",
   "execution_count": 2,
   "metadata": {
    "collapsed": true
   },
   "outputs": [],
   "source": [
    "import numpy as np"
   ]
  },
  {
   "cell_type": "code",
   "execution_count": 3,
   "metadata": {
    "collapsed": true
   },
   "outputs": [],
   "source": [
    "from heur import ShootAndGo\n",
    "from objfun import Zebra3"
   ]
  },
  {
   "cell_type": "markdown",
   "metadata": {},
   "source": [
    "### Zebra-3 demonstration"
   ]
  },
  {
   "cell_type": "markdown",
   "metadata": {},
   "source": [
    "** ``Zebra3(6)`` initialisation **"
   ]
  },
  {
   "cell_type": "code",
   "execution_count": 4,
   "metadata": {
    "collapsed": true
   },
   "outputs": [],
   "source": [
    "z3 = Zebra3(6)"
   ]
  },
  {
   "cell_type": "markdown",
   "metadata": {},
   "source": [
    "I.e. we have $2^{6 \\cdot 3} = 262 144$ states to search"
   ]
  },
  {
   "cell_type": "code",
   "execution_count": 5,
   "metadata": {
    "collapsed": false
   },
   "outputs": [
    {
     "data": {
      "text/plain": [
       "array([0, 0, 0, 1, 1, 1, 1, 0, 0, 0, 0, 1, 1, 0, 1, 1, 1, 1])"
      ]
     },
     "execution_count": 5,
     "metadata": {},
     "output_type": "execute_result"
    }
   ],
   "source": [
    "x = z3.generate_point()\n",
    "x"
   ]
  },
  {
   "cell_type": "code",
   "execution_count": 6,
   "metadata": {
    "collapsed": false
   },
   "outputs": [
    {
     "data": {
      "text/plain": [
       "1.5"
      ]
     },
     "execution_count": 6,
     "metadata": {},
     "output_type": "execute_result"
    }
   ],
   "source": [
    "z3.evaluate(x)"
   ]
  },
  {
   "cell_type": "code",
   "execution_count": 7,
   "metadata": {
    "collapsed": false
   },
   "outputs": [
    {
     "data": {
      "text/plain": [
       "[array([1, 0, 0, 1, 1, 1, 1, 0, 0, 0, 0, 1, 1, 0, 1, 1, 1, 1]),\n",
       " array([0, 1, 0, 1, 1, 1, 1, 0, 0, 0, 0, 1, 1, 0, 1, 1, 1, 1]),\n",
       " array([0, 0, 1, 1, 1, 1, 1, 0, 0, 0, 0, 1, 1, 0, 1, 1, 1, 1]),\n",
       " array([0, 0, 0, 0, 1, 1, 1, 0, 0, 0, 0, 1, 1, 0, 1, 1, 1, 1]),\n",
       " array([0, 0, 0, 1, 0, 1, 1, 0, 0, 0, 0, 1, 1, 0, 1, 1, 1, 1]),\n",
       " array([0, 0, 0, 1, 1, 0, 1, 0, 0, 0, 0, 1, 1, 0, 1, 1, 1, 1]),\n",
       " array([0, 0, 0, 1, 1, 1, 0, 0, 0, 0, 0, 1, 1, 0, 1, 1, 1, 1]),\n",
       " array([0, 0, 0, 1, 1, 1, 1, 1, 0, 0, 0, 1, 1, 0, 1, 1, 1, 1]),\n",
       " array([0, 0, 0, 1, 1, 1, 1, 0, 1, 0, 0, 1, 1, 0, 1, 1, 1, 1]),\n",
       " array([0, 0, 0, 1, 1, 1, 1, 0, 0, 1, 0, 1, 1, 0, 1, 1, 1, 1]),\n",
       " array([0, 0, 0, 1, 1, 1, 1, 0, 0, 0, 1, 1, 1, 0, 1, 1, 1, 1]),\n",
       " array([0, 0, 0, 1, 1, 1, 1, 0, 0, 0, 0, 0, 1, 0, 1, 1, 1, 1]),\n",
       " array([0, 0, 0, 1, 1, 1, 1, 0, 0, 0, 0, 1, 0, 0, 1, 1, 1, 1]),\n",
       " array([0, 0, 0, 1, 1, 1, 1, 0, 0, 0, 0, 1, 1, 1, 1, 1, 1, 1]),\n",
       " array([0, 0, 0, 1, 1, 1, 1, 0, 0, 0, 0, 1, 1, 0, 0, 1, 1, 1]),\n",
       " array([0, 0, 0, 1, 1, 1, 1, 0, 0, 0, 0, 1, 1, 0, 1, 0, 1, 1]),\n",
       " array([0, 0, 0, 1, 1, 1, 1, 0, 0, 0, 0, 1, 1, 0, 1, 1, 0, 1]),\n",
       " array([0, 0, 0, 1, 1, 1, 1, 0, 0, 0, 0, 1, 1, 0, 1, 1, 1, 0])]"
      ]
     },
     "execution_count": 7,
     "metadata": {},
     "output_type": "execute_result"
    }
   ],
   "source": [
    "z3.get_neighborhood(x, 1)"
   ]
  },
  {
   "cell_type": "code",
   "execution_count": 8,
   "metadata": {
    "collapsed": false
   },
   "outputs": [
    {
     "data": {
      "text/plain": [
       "0.0"
      ]
     },
     "execution_count": 8,
     "metadata": {},
     "output_type": "execute_result"
    }
   ],
   "source": [
    "# optimum\n",
    "z3.evaluate(np.array([0,0,0,1,1,1,0,0,0,1,1,1,0,0,0,1,1,1,0,0,0,1,1,1,0,0,0,1,1,1]))"
   ]
  },
  {
   "cell_type": "markdown",
   "metadata": {},
   "source": [
    "### Zebra-3 optimization using $\\mathrm{SG}_{100}$"
   ]
  },
  {
   "cell_type": "code",
   "execution_count": 9,
   "metadata": {
    "collapsed": false
   },
   "outputs": [
    {
     "name": "stdout",
     "output_type": "stream",
     "text": [
      "{'neval': 8763, 'best_x': array([0, 0, 0, 1, 1, 1, 0, 0, 0, 1, 1, 1, 0, 0, 0, 1, 1, 1]), 'best_y': 0.0}\n"
     ]
    }
   ],
   "source": [
    "heur = ShootAndGo(Zebra3(6), maxeval=10000, hmax=100)\n",
    "print(heur.search())"
   ]
  },
  {
   "cell_type": "markdown",
   "metadata": {},
   "source": [
    "# Excercises:\n",
    "\n",
    "1. Find the best ``hmax`` for ``maxeval=10000``\n",
    "1. Does choice of ``maxeval`` affect optimal ``hmax``?\n",
    "1. Implement your own objective function"
   ]
  }
 ],
 "metadata": {
  "kernelspec": {
   "display_name": "Python 3",
   "language": "python",
   "name": "python3"
  },
  "language_info": {
   "codemirror_mode": {
    "name": "ipython",
    "version": 3
   },
   "file_extension": ".py",
   "mimetype": "text/x-python",
   "name": "python",
   "nbconvert_exporter": "python",
   "pygments_lexer": "ipython3",
   "version": "3.5.1"
  }
 },
 "nbformat": 4,
 "nbformat_minor": 0
}
